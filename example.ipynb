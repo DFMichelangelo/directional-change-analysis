{
 "cells": [
  {
   "cell_type": "code",
   "execution_count": null,
   "metadata": {},
   "outputs": [],
   "source": []
  }
 ],
 "metadata": {
  "kernelspec": {
   "display_name": "Python 3.10.5 ('venv': venv)",
   "language": "python",
   "name": "python3"
  },
  "language_info": {
   "name": "python",
   "version": "3.10.5"
  },
  "orig_nbformat": 4,
  "vscode": {
   "interpreter": {
    "hash": "8af7cedc47b8721ce1f2b4e49ec65e47232645ebd1575235c32d9205910e0f60"
   }
  }
 },
 "nbformat": 4,
 "nbformat_minor": 2
}
